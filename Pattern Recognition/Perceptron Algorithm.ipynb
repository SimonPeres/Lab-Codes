{
  "nbformat": 4,
  "nbformat_minor": 0,
  "metadata": {
    "colab": {
      "name": "assignment2_PR_lab.ipynb",
      "provenance": [],
      "collapsed_sections": []
    },
    "kernelspec": {
      "name": "python3",
      "display_name": "Python 3"
    }
  },
  "cells": [
    {
      "cell_type": "code",
      "metadata": {
        "id": "EAtZFVL91tcV",
        "colab": {
          "base_uri": "https://localhost:8080/",
          "height": 52
        },
        "outputId": "baf9ef0e-ccaa-4768-a869-7925d43ad1c0"
      },
      "source": [
        "'''\n",
        "Course Name - Pattern Recognition Lab\n",
        "Course No. - CSE 4214\n",
        "Experiment Name - Implementing the Perceptron algorithm for finding the weights of a Linear Discriminant function\n",
        "Assignment No - 2\n",
        "Name - Simon Das\n",
        "Section - C2\n",
        "Student ID - 16.01.04.146\n",
        "'''"
      ],
      "execution_count": null,
      "outputs": [
        {
          "output_type": "execute_result",
          "data": {
            "application/vnd.google.colaboratory.intrinsic+json": {
              "type": "string"
            },
            "text/plain": [
              "'\\nCourse Name - Pattern Recognition Lab\\nCourse No. - CSE 4214\\nExperiment Name - Implementing the Perceptron algorithm for finding the weights of a Linear Discriminant function\\nAssignment No - 2\\nName - Simon Das\\nSection - C2\\nStudent ID - 16.01.04.146\\n'"
            ]
          },
          "metadata": {
            "tags": []
          },
          "execution_count": 39
        }
      ]
    },
    {
      "cell_type": "code",
      "metadata": {
        "id": "Ftrvb5x111IE",
        "colab": {
          "resources": {
            "http://localhost:8080/nbextensions/google.colab/files.js": {
              "data": "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",
              "ok": true,
              "headers": [
                [
                  "content-type",
                  "application/javascript"
                ]
              ],
              "status": 200,
              "status_text": ""
            }
          },
          "base_uri": "https://localhost:8080/",
          "height": 72
        },
        "outputId": "c1a63e59-cbcd-4eca-f903-510b894fd838"
      },
      "source": [
        "from google.colab import files\n",
        "\n",
        "uploaded_train = files.upload()"
      ],
      "execution_count": null,
      "outputs": [
        {
          "output_type": "display_data",
          "data": {
            "text/html": [
              "\n",
              "     <input type=\"file\" id=\"files-7a187339-8f43-484e-846d-4f771135f7f3\" name=\"files[]\" multiple disabled\n",
              "        style=\"border:none\" />\n",
              "     <output id=\"result-7a187339-8f43-484e-846d-4f771135f7f3\">\n",
              "      Upload widget is only available when the cell has been executed in the\n",
              "      current browser session. Please rerun this cell to enable.\n",
              "      </output>\n",
              "      <script src=\"/nbextensions/google.colab/files.js\"></script> "
            ],
            "text/plain": [
              "<IPython.core.display.HTML object>"
            ]
          },
          "metadata": {
            "tags": []
          }
        },
        {
          "output_type": "stream",
          "text": [
            "Saving train.txt to train (2).txt\n"
          ],
          "name": "stdout"
        }
      ]
    },
    {
      "cell_type": "code",
      "metadata": {
        "id": "Zv0JFzIq14Rj"
      },
      "source": [
        "import io\n",
        "import pandas as pd\n",
        "\n",
        "# reading the training data\n",
        "train_data = pd.read_csv(io.BytesIO(uploaded_train['train.txt']), sep = ' ', header = None)"
      ],
      "execution_count": null,
      "outputs": []
    },
    {
      "cell_type": "code",
      "metadata": {
        "id": "wrh-YPRJ17cs"
      },
      "source": [
        "# dividing the training data into two classes\n",
        "train_data_xy = train_data.groupby(2)\n",
        "class1 = train_data_xy.get_group(1)\n",
        "class2 = train_data_xy.get_group(2)"
      ],
      "execution_count": null,
      "outputs": []
    },
    {
      "cell_type": "code",
      "metadata": {
        "id": "Sj66E_rR2AkT",
        "colab": {
          "base_uri": "https://localhost:8080/",
          "height": 265
        },
        "outputId": "91ae5152-21c2-4d2c-9fe1-224fb9408d7e"
      },
      "source": [
        "import matplotlib.pyplot as plt\n",
        "\n",
        "# plotting data points of two classes with different color and marker\n",
        "plt.scatter(class1[0], class1[1], c = 'r', marker = 'o', label = 'train class 1')\n",
        "plt.scatter(class2[0], class2[1], c = 'g', marker = 'x', label = 'train class 2')\n",
        "plt.legend(loc = 'best')\n",
        "plt.show()"
      ],
      "execution_count": null,
      "outputs": [
        {
          "output_type": "display_data",
          "data": {
            "image/png": "[encoded data removed]",
            "text/plain": [
              "<Figure size 432x288 with 1 Axes>"
            ]
          },
          "metadata": {
            "tags": [],
            "needs_background": "light"
          }
        }
      ]
    },
    {
      "cell_type": "code",
      "metadata": {
        "id": "Rw3XMoz32Cka"
      },
      "source": [
        "import numpy as np\n",
        "\n",
        "class1 = class1.to_numpy()\n",
        "class2 = class2.to_numpy()\n",
        "\n",
        "phi_class1 = np.empty((0, 6), int)\n",
        "phi_class2 = np.empty((0, 6), int)\n",
        "\n",
        "# changing dimension for class 1\n",
        "for i in range(0, len(class1)):\n",
        "  x1 = class1[i][0]\n",
        "  x2 = class1[i][1]\n",
        "  phi_class1 = np.append(phi_class1, np.array([[ x1**2, x2**2, x1*x2, x1, x2, 1]]), axis=0)\n",
        "\n",
        "# changing dimension for class 2\n",
        "for i in range(0, len(class2)):\n",
        "  x1 = class2[i][0]\n",
        "  x2 = class2[i][1]\n",
        "  phi_class2 = np.append(phi_class2, np.array([[ x1**2, x2**2, x1*x2, x1, x2, 1]]), axis=0)\n",
        "\n",
        "# normalizing class 2 values\n",
        "phi_class2 *= -1\n",
        "\n",
        "# combining two classes\n",
        "phi_all_class = np.concatenate((phi_class1, phi_class2), axis = 0)"
      ],
      "execution_count": null,
      "outputs": []
    },
    {
      "cell_type": "code",
      "metadata": {
        "id": "HrI5o2gM2EsU"
      },
      "source": [
        "def oneAtATime(initial_weight, learning_rate):\n",
        "  count = 0\n",
        "  for i in range(0, 200):\n",
        "    count = i\n",
        "    flag = 0\n",
        "    for i in range(0, len(phi_all_class)):\n",
        "      if np.dot(phi_all_class[i], initial_weight) > 0:\n",
        "        pass\n",
        "      else:\n",
        "        initial_weight = initial_weight + (learning_rate * phi_all_class[i])\n",
        "        flag = 1\n",
        "    \n",
        "    if flag == 0:\n",
        "      break;\n",
        "  return count+1"
      ],
      "execution_count": null,
      "outputs": []
    },
    {
      "cell_type": "code",
      "metadata": {
        "id": "AC84UAFO2MRy"
      },
      "source": [
        "def manyAtATime(initial_weight, learning_rate):\n",
        "  count = 0\n",
        "  for i in range(0, 200):\n",
        "    count = i\n",
        "    weight = np.array([ 0, 0, 0, 0, 0, 0])\n",
        "    flag = 0\n",
        "    for i in range(0, len(phi_all_class)):\n",
        "      if np.dot(phi_all_class[i], initial_weight) > 0:\n",
        "        pass\n",
        "      else:\n",
        "        weight = weight + (learning_rate * phi_all_class[i])\n",
        "        flag = 1\n",
        "    \n",
        "    initial_weight = np.add(initial_weight, weight)\n",
        "\n",
        "    if flag == 0:\n",
        "      break;\n",
        "  return count+1  "
      ],
      "execution_count": null,
      "outputs": []
    },
    {
      "cell_type": "code",
      "metadata": {
        "id": "K-VqgG1X2OB6"
      },
      "source": [
        "def result_one(initial_weight, learning_rate):\n",
        "  res = []\n",
        "  for i in range(0, 10):\n",
        "    res.append(oneAtATime(initial_weight, learning_rate[i]))\n",
        "  return res;"
      ],
      "execution_count": null,
      "outputs": []
    },
    {
      "cell_type": "code",
      "metadata": {
        "id": "gnHQIJ1Z2P0b"
      },
      "source": [
        "def result_many(initial_weight, learning_rate):\n",
        "  res = []\n",
        "  for i in range(0, 10):\n",
        "    res.append(manyAtATime(initial_weight, learning_rate[i]))\n",
        "  return res;"
      ],
      "execution_count": null,
      "outputs": []
    },
    {
      "cell_type": "code",
      "metadata": {
        "id": "WIRlQj7X2Riq"
      },
      "source": [
        "def printResult(learning_rate, result_oneAtATime, result_manyAtATime):\n",
        "  print(\"Alpha(learning rate)\\tOne at a time\\tMany at a time\")\n",
        "  for i in range(10):\n",
        "    print(learning_rate[i], \"\\t\\t\\t\", result_oneAtATime[i], \"\\t\\t\", result_manyAtATime[i])"
      ],
      "execution_count": null,
      "outputs": []
    },
    {
      "cell_type": "code",
      "metadata": {
        "id": "x70pv_OC2TAj"
      },
      "source": [
        "def displayBarChart(one_at_a_time, many_at_a_time):\n",
        "  x = np.arange(10)\n",
        "  plt.title('Perceptron Comparison')\n",
        "  plt.xlabel('Learning rate')\n",
        "  plt.ylabel('No of iterations')\n",
        "  plt.bar(x, one_at_a_time, 0.4, label = 'One at a time')\n",
        "  plt.bar(x+0.4, many_at_a_time, 0.4, label = 'Many at a time')\n",
        "  plt.xticks(x+0.2, ['0.1', '0.2', '0.3', '0.4', '0.5', '0.6', '0.7', '0.8', '0.9', '1.0'])\n",
        "  plt.legend(loc = 'best')\n",
        "  print()\n",
        "  plt.show()"
      ],
      "execution_count": null,
      "outputs": []
    },
    {
      "cell_type": "code",
      "metadata": {
        "id": "L5XTsxB62Ulb"
      },
      "source": [
        "learning_rate = [0.1, 0.2, 0.3, 0.4, 0.5, 0.6, 0.7, 0.8, 0.9, 1]\n",
        "result_oneAtATime_allZero = []\n",
        "result_manyAtATime_allZero = []\n",
        "result_oneAtATime_allOne = []\n",
        "result_manyAtATime_allOne = []\n",
        "result_oneAtATime_random = []\n",
        "result_manyAtATime_random = []"
      ],
      "execution_count": null,
      "outputs": []
    },
    {
      "cell_type": "code",
      "metadata": {
        "id": "8iTdhAfk2WH6",
        "colab": {
          "base_uri": "https://localhost:8080/",
          "height": 1000
        },
        "outputId": "20cabc0b-a494-48f9-afb4-3527a0efe068"
      },
      "source": [
        "#all zero\n",
        "initial_weight = np.zeros(6)\n",
        "result_oneAtATime_allZero = result_one(initial_weight, learning_rate)\n",
        "result_manyAtATime_allZero = result_many(initial_weight, learning_rate)\n",
        "print(\"For all zero:\")\n",
        "printResult(learning_rate, result_oneAtATime_allZero, result_manyAtATime_allZero)\n",
        "displayBarChart(result_oneAtATime_allZero, result_manyAtATime_allZero)\n",
        "\n",
        "#all one\n",
        "initial_weight = np.ones(6)\n",
        "result_oneAtATime_allOne = result_one(initial_weight, learning_rate)\n",
        "result_manyAtATime_allOne = result_many(initial_weight, learning_rate)\n",
        "print(\"\\n\\nFor all one:\")\n",
        "printResult(learning_rate, result_oneAtATime_allOne, result_manyAtATime_allOne)\n",
        "displayBarChart(result_oneAtATime_allOne, result_manyAtATime_allOne)\n",
        "\n",
        "#random\n",
        "np.random.seed(4) #seed = 4\n",
        "initial_weight = np.random.rand(6)\n",
        "result_oneAtATime_random = result_one(initial_weight, learning_rate)\n",
        "result_manyAtATime_random = result_many(initial_weight, learning_rate)\n",
        "print(\"\\n\\nFor random:\")\n",
        "printResult(learning_rate, result_oneAtATime_random, result_manyAtATime_random)\n",
        "displayBarChart(result_oneAtATime_random, result_manyAtATime_random)"
      ],
      "execution_count": null,
      "outputs": [
        {
          "output_type": "stream",
          "text": [
            "For all zero:\n",
            "Alpha(learning rate)\tOne at a time\tMany at a time\n",
            "0.1 \t\t\t 94 \t\t 105\n",
            "0.2 \t\t\t 94 \t\t 105\n",
            "0.3 \t\t\t 94 \t\t 92\n",
            "0.4 \t\t\t 94 \t\t 105\n",
            "0.5 \t\t\t 94 \t\t 92\n",
            "0.6 \t\t\t 94 \t\t 92\n",
            "0.7 \t\t\t 94 \t\t 92\n",
            "0.8 \t\t\t 94 \t\t 105\n",
            "0.9 \t\t\t 94 \t\t 105\n",
            "1 \t\t\t 94 \t\t 92\n",
            "\n"
          ],
          "name": "stdout"
        },
        {
          "output_type": "display_data",
          "data": {
            "image/png": "[encoded data removed]",
            "text/plain": [
              "<Figure size 432x288 with 1 Axes>"
            ]
          },
          "metadata": {
            "tags": [],
            "needs_background": "light"
          }
        },
        {
          "output_type": "stream",
          "text": [
            "\n",
            "\n",
            "For all one:\n",
            "Alpha(learning rate)\tOne at a time\tMany at a time\n",
            "0.1 \t\t\t 6 \t\t 102\n",
            "0.2 \t\t\t 92 \t\t 104\n",
            "0.3 \t\t\t 104 \t\t 91\n",
            "0.4 \t\t\t 106 \t\t 116\n",
            "0.5 \t\t\t 93 \t\t 105\n",
            "0.6 \t\t\t 93 \t\t 114\n",
            "0.7 \t\t\t 108 \t\t 91\n",
            "0.8 \t\t\t 115 \t\t 91\n",
            "0.9 \t\t\t 94 \t\t 105\n",
            "1 \t\t\t 94 \t\t 93\n",
            "\n"
          ],
          "name": "stdout"
        },
        {
          "output_type": "display_data",
          "data": {
            "image/png": "[encoded data removed]",
            "text/plain": [
              "<Figure size 432x288 with 1 Axes>"
            ]
          },
          "metadata": {
            "tags": [],
            "needs_background": "light"
          }
        },
        {
          "output_type": "stream",
          "text": [
            "\n",
            "\n",
            "For random:\n",
            "Alpha(learning rate)\tOne at a time\tMany at a time\n",
            "0.1 \t\t\t 102 \t\t 119\n",
            "0.2 \t\t\t 100 \t\t 99\n",
            "0.3 \t\t\t 111 \t\t 115\n",
            "0.4 \t\t\t 103 \t\t 120\n",
            "0.5 \t\t\t 109 \t\t 99\n",
            "0.6 \t\t\t 114 \t\t 117\n",
            "0.7 \t\t\t 100 \t\t 93\n",
            "0.8 \t\t\t 100 \t\t 106\n",
            "0.9 \t\t\t 105 \t\t 105\n",
            "1 \t\t\t 113 \t\t 105\n",
            "\n"
          ],
          "name": "stdout"
        },
        {
          "output_type": "display_data",
          "data": {
            "image/png": "[encoded data removed]",
            "text/plain": [
              "<Figure size 432x288 with 1 Axes>"
            ]
          },
          "metadata": {
            "tags": [],
            "needs_background": "light"
          }
        }
      ]
    }
  ]
}