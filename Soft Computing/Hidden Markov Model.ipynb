{
  "nbformat": 4,
  "nbformat_minor": 0,
  "metadata": {
    "colab": {
      "name": "Soft_Computing_Assignment_1____HMM.ipynb",
      "provenance": [],
      "collapsed_sections": []
    },
    "kernelspec": {
      "name": "python3",
      "display_name": "Python 3"
    }
  },
  "cells": [
    {
      "cell_type": "code",
      "metadata": {
        "id": "Eq-F5ajxuS1O",
        "colab_type": "code",
        "colab": {
          "base_uri": "https://localhost:8080/",
          "height": 34
        },
        "outputId": "b8590fd0-6739-4c2f-960e-b21e067c2544"
      },
      "source": [
        "'''\n",
        "Course Name - Soft Computing Lab\n",
        "Course No. - CSE 4238\n",
        "Name - Simon Das\n",
        "Section - C2\n",
        "Student ID - 16.01.04.146\n",
        "'''"
      ],
      "execution_count": 117,
      "outputs": [
        {
          "output_type": "execute_result",
          "data": {
            "text/plain": [
              "'\\nCourse Name - Soft Computing Lab\\nCourse No. - CSE 4238\\nName - Simon Das\\nSection - C2\\nStudent ID - 16.01.04.146\\n'"
            ]
          },
          "metadata": {
            "tags": []
          },
          "execution_count": 117
        }
      ]
    },
    {
      "cell_type": "code",
      "metadata": {
        "id": "5DciqNDElnZs",
        "colab_type": "code",
        "outputId": "9aea9985-44c6-421f-f4f2-f08f8fa4acec",
        "colab": {
          "resources": {
            "http://localhost:8080/nbextensions/google.colab/files.js": {
              "data": "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",
              "ok": true,
              "headers": [
                [
                  "content-type",
                  "application/javascript"
                ]
              ],
              "status": 200,
              "status_text": ""
            }
          },
          "base_uri": "https://localhost:8080/",
          "height": 199
        }
      },
      "source": [
        "from google.colab import files\n",
        "print(\"upload the train file : \")\n",
        "uploaded_train = files.upload()\n",
        "print(\"\\n\\nupload the test file : \")\n",
        "uploaded_test = files.upload()"
      ],
      "execution_count": 118,
      "outputs": [
        {
          "output_type": "stream",
          "text": [
            "upload the train file : \n"
          ],
          "name": "stdout"
        },
        {
          "output_type": "display_data",
          "data": {
            "text/html": [
              "\n",
              "     <input type=\"file\" id=\"files-4b7abb08-00c4-459f-b8d4-5ba644270c8f\" name=\"files[]\" multiple disabled />\n",
              "     <output id=\"result-4b7abb08-00c4-459f-b8d4-5ba644270c8f\">\n",
              "      Upload widget is only available when the cell has been executed in the\n",
              "      current browser session. Please rerun this cell to enable.\n",
              "      </output>\n",
              "      <script src=\"/nbextensions/google.colab/files.js\"></script> "
            ],
            "text/plain": [
              "<IPython.core.display.HTML object>"
            ]
          },
          "metadata": {
            "tags": []
          }
        },
        {
          "output_type": "stream",
          "text": [
            "Saving training_Pyramid_1000.data.txt to training_Pyramid_1000.data (2).txt\n",
            "\n",
            "\n",
            "upload the test file : \n"
          ],
          "name": "stdout"
        },
        {
          "output_type": "display_data",
          "data": {
            "text/html": [
              "\n",
              "     <input type=\"file\" id=\"files-c43b87a6-7715-4135-9aa7-51f70a6b71da\" name=\"files[]\" multiple disabled />\n",
              "     <output id=\"result-c43b87a6-7715-4135-9aa7-51f70a6b71da\">\n",
              "      Upload widget is only available when the cell has been executed in the\n",
              "      current browser session. Please rerun this cell to enable.\n",
              "      </output>\n",
              "      <script src=\"/nbextensions/google.colab/files.js\"></script> "
            ],
            "text/plain": [
              "<IPython.core.display.HTML object>"
            ]
          },
          "metadata": {
            "tags": []
          }
        },
        {
          "output_type": "stream",
          "text": [
            "Saving testing_Pyramid_1000.data.txt to testing_Pyramid_1000.data (2).txt\n"
          ],
          "name": "stdout"
        }
      ]
    },
    {
      "cell_type": "markdown",
      "metadata": {
        "id": "Y8mgWBc8iwFP",
        "colab_type": "text"
      },
      "source": [
        "LOAD INPUT\n",
        "HERE SAMPLE_DATASET TAKES TRAINING DATA AS AN INPUT"
      ]
    },
    {
      "cell_type": "code",
      "metadata": {
        "id": "773KLNyfx8KJ",
        "colab_type": "code",
        "colab": {}
      },
      "source": [
        "def input_data(sample_dataset):\n",
        "  trainData = pd.read_csv(io.BytesIO(uploaded_train[sample_dataset]), sep = '\\t', header = None)\n",
        "  return trainData"
      ],
      "execution_count": 0,
      "outputs": []
    },
    {
      "cell_type": "markdown",
      "metadata": {
        "id": "JLHiDqIZjC0n",
        "colab_type": "text"
      },
      "source": [
        "FOR EMISSION MATRIX\n",
        ">CALCULATE THE PROBABILITY OF DIFFERENT TEST SAMPLE AND STORED IN EMMISION MATRIX"
      ]
    },
    {
      "cell_type": "code",
      "metadata": {
        "id": "oWdGz1X1jKwh",
        "colab_type": "code",
        "colab": {}
      },
      "source": [
        "def emission_matrix_calculate(trainData):\n",
        "  fair_cheat_win_lose = trainData.groupby(0)[1].value_counts()\n",
        "  \n",
        "  fair_win = round(fair_cheat_win_lose['fair']['win'] / fair_cheat_win_lose['fair'].sum(), 2)\n",
        "  fair_lose = round(fair_cheat_win_lose['fair']['lose'] / fair_cheat_win_lose['fair'].sum(), 2)\n",
        "  cheat_win = round(fair_cheat_win_lose['cheat']['win'] / fair_cheat_win_lose['cheat'].sum(), 2)\n",
        "  cheat_lose = round(fair_cheat_win_lose['cheat']['lose'] / fair_cheat_win_lose['cheat'].sum(), 2)\n",
        "\n",
        "  emission_matrix = np.array([[fair_win, fair_lose], [cheat_win, cheat_lose]])\n",
        "\n",
        "  return emission_matrix"
      ],
      "execution_count": 0,
      "outputs": []
    },
    {
      "cell_type": "markdown",
      "metadata": {
        "id": "ZpGgU6eGjYyr",
        "colab_type": "text"
      },
      "source": [
        "FOR TRANSITION MATRIX\n",
        "> CALCULATE THE PROBABILITY OF DIFFERENT STATE TRANSITION FOR TRAINING DATA\n",
        " AND VALUE STORED IN TRANSITION MATRIX FOR FURTHER CALCULATION\n"
      ]
    },
    {
      "cell_type": "code",
      "metadata": {
        "id": "uwuMYpVJjgf6",
        "colab_type": "code",
        "colab": {}
      },
      "source": [
        "def transition_matrix_count(trainData):\n",
        "  fair_fair, fair_cheat, cheat_fair, cheat_cheat = 0, 0, 0, 0\n",
        "  fair_fair_pro, fair_cheat_pro, cheat_fair_pro, cheat_cheat_pro = 0, 0, 0, 0\n",
        "\n",
        "  for i in range(len(trainData) - 1):\n",
        "    if trainData[0][i] == 'fair':\n",
        "      if trainData[0][i] == trainData[0][i+1]:\n",
        "        fair_fair += 1\n",
        "      else:\n",
        "        fair_cheat += 1\n",
        "    elif trainData[0][i] == 'cheat':\n",
        "      if trainData[0][i] == trainData[0][i+1]:\n",
        "        cheat_cheat += 1\n",
        "      else:\n",
        "        cheat_fair += 1\n",
        "\n",
        "  fair_fair_pro = round((fair_fair / (fair_fair + fair_cheat)), 2)\n",
        "  fair_cheat_pro = round((fair_cheat / (fair_fair + fair_cheat)), 2)\n",
        "  cheat_cheat_pro = round((cheat_cheat / (cheat_cheat + cheat_fair)), 2)\n",
        "  cheat_fair_pro = round((cheat_fair / (cheat_cheat + cheat_fair)), 2)\n",
        "\n",
        "  transition_matrix = np.array([[fair_fair_pro, fair_cheat_pro], [cheat_fair_pro, cheat_cheat_pro]])\n",
        "\n",
        "  return transition_matrix"
      ],
      "execution_count": 0,
      "outputs": []
    },
    {
      "cell_type": "markdown",
      "metadata": {
        "id": "zEDuzR7_kGi4",
        "colab_type": "text"
      },
      "source": [
        "INPUT_OBSERVATION FUNCTION TAKES TESTING DATA SET"
      ]
    },
    {
      "cell_type": "code",
      "metadata": {
        "id": "scWDDStKkK6o",
        "colab_type": "code",
        "colab": {}
      },
      "source": [
        "import pandas as pd\n",
        "import io\n",
        "\n",
        "def input_observation(testingData):\n",
        "  testing_data = pd.read_csv(io.BytesIO(uploaded_test[testingData]), sep = '\\t', header=None)\n",
        "  return testing_data"
      ],
      "execution_count": 0,
      "outputs": []
    },
    {
      "cell_type": "markdown",
      "metadata": {
        "id": "H_O6IZP2kkhN",
        "colab_type": "text"
      },
      "source": [
        "IMPLEMENT HMM USING THE VITERBI ALGORITHM\n",
        ">Reference:\n",
        "Murphy, Kevin P. Machine Learning: A Probabilistic Perspective. MIT press, 2012."
      ]
    },
    {
      "cell_type": "markdown",
      "metadata": {
        "id": "Ax_FsRV8mQU4",
        "colab_type": "text"
      },
      "source": [
        "![alt text](https://drive.google.com/uc?id=1J9yuHGxAKhbX67x_lmFylPzeZAKkm7Ns)"
      ]
    },
    {
      "cell_type": "code",
      "metadata": {
        "id": "ub4H5lg2kyAs",
        "colab_type": "code",
        "colab": {}
      },
      "source": [
        "def viterbi(observations, emission_matrix, initial_pro, transition_matrix):\n",
        "  fair_nodes, cheat_nodes, final_output, fair_counter, cheat_counter = [], [], [], 0, 0\n",
        "\n",
        "  if observations[0][0] == \"win\":\n",
        "    fair_nodes.append(initial_pro[0] * emission_matrix[0][0])\n",
        "    cheat_nodes.append(initial_pro[1] * emission_matrix[1][0])\n",
        "  else:\n",
        "    fair_nodes.append(initial_pro[0] * emission_matrix[0][1])\n",
        "    cheat_nodes.append(initial_pro[1] * emission_matrix[1][1])\n",
        "\n",
        "  if fair_nodes[0] >= cheat_nodes[0]:\n",
        "    final_output.append('fair')\n",
        "    fair_counter += 1\n",
        "  else:\n",
        "    final_output.append('cheat')\n",
        "    cheat_counter += 1\n",
        "\n",
        "  for i in range(1, len(observations)):\n",
        "    if observations[0][i] == 'win':\n",
        "      fair_nodes.append(max(np.log(emission_matrix[0][0]) * np.log(transition_matrix[0][0]) * fair_nodes[i-1], np.log(emission_matrix[0][0]) * np.log(transition_matrix[1][0]) * cheat_nodes[i-1]))\n",
        "      cheat_nodes.append(max(np.log(emission_matrix[1][0]) * np.log(transition_matrix[1][1]) * cheat_nodes[i-1], np.log(emission_matrix[1][0]) * np.log(transition_matrix[0][1]) * fair_nodes[i-1]))\n",
        "    else:\n",
        "      fair_nodes.append(max(np.log(emission_matrix[0][1]) * np.log(transition_matrix[0][0]) * fair_nodes[i-1], np.log(emission_matrix[0][1]) * np.log(transition_matrix[1][0]) * cheat_nodes[i-1]))\n",
        "      cheat_nodes.append(max(np.log(emission_matrix[1][1]) * np.log(transition_matrix[1][1]) * cheat_nodes[i-1], np.log(emission_matrix[1][1]) * np.log(transition_matrix[0][1]) * fair_nodes[i-1]))\n",
        "\n",
        "    if fair_nodes[i] >= cheat_nodes[i]:\n",
        "      final_output.append('fair')\n",
        "      fair_counter += 1\n",
        "    else:\n",
        "      final_output.append('cheat')\n",
        "      cheat_counter += 1\n",
        "\n",
        "  score = [fair_counter, cheat_counter]\n",
        "\n",
        "  return score, final_output\n"
      ],
      "execution_count": 0,
      "outputs": []
    },
    {
      "cell_type": "markdown",
      "metadata": {
        "id": "i6F57kqsk06m",
        "colab_type": "text"
      },
      "source": [
        "MAIN FUNCTION"
      ]
    },
    {
      "cell_type": "code",
      "metadata": {
        "id": "EItmDa9Sg7Wv",
        "colab_type": "code",
        "outputId": "ad67c051-b290-44eb-b62f-6640552eb930",
        "colab": {
          "base_uri": "https://localhost:8080/",
          "height": 173
        }
      },
      "source": [
        "import numpy as np\n",
        "\n",
        "def main():\n",
        "\n",
        "    sample_dataset = \"training_Pyramid_1000.data.txt\"  \n",
        "    testing_data = \"testing_Pyramid_1000.data.txt\"     \n",
        "\n",
        "    observations = input_observation(testing_data)\n",
        "    initial_pro = np.array([0.5, 0.5])\n",
        "\n",
        "    trainData = input_data(sample_dataset)\n",
        "\n",
        "    emission_matrix = emission_matrix_calculate(trainData)\n",
        "    transition_matrix = transition_matrix_count(trainData)\n",
        "\n",
        "    print(\"Transition Matrix\\n\", transition_matrix)\n",
        "    print(\"Emission Matrix\\n\", emission_matrix)\n",
        "\n",
        "    score, final_output = viterbi(observations, emission_matrix, initial_pro, transition_matrix)\n",
        "    print(score)\n",
        "    print(final_output)\n",
        "\n",
        "main()"
      ],
      "execution_count": 124,
      "outputs": [
        {
          "output_type": "stream",
          "text": [
            "Transition Matrix\n",
            " [[0.72 0.28]\n",
            " [0.29 0.71]]\n",
            "Emission Matrix\n",
            " [[0.54 0.46]\n",
            " [0.3  0.7 ]]\n",
            "[513, 487]\n",
            "['cheat', 'fair', 'cheat', 'fair', 'cheat', 'fair', 'cheat', 'fair', 'cheat', 'cheat', 'fair', 'cheat', 'fair', 'cheat', 'fair', 'cheat', 'fair', 'fair', 'fair', 'cheat', 'fair', 'fair', 'fair', 'cheat', 'fair', 'cheat', 'fair', 'cheat', 'fair', 'cheat', 'fair', 'cheat', 'fair', 'cheat', 'fair', 'cheat', 'fair', 'cheat', 'fair', 'fair', 'fair', 'fair', 'cheat', 'fair', 'cheat', 'cheat', 'fair', 'cheat', 'fair', 'cheat', 'fair', 'fair', 'cheat', 'fair', 'fair', 'fair', 'fair', 'fair', 'fair', 'fair', 'cheat', 'fair', 'cheat', 'cheat', 'fair', 'cheat', 'cheat', 'cheat', 'fair', 'cheat', 'cheat', 'cheat', 'fair', 'cheat', 'fair', 'cheat', 'cheat', 'cheat', 'fair', 'cheat', 'fair', 'cheat', 'cheat', 'fair', 'cheat', 'fair', 'cheat', 'fair', 'cheat', 'fair', 'cheat', 'fair', 'fair', 'fair', 'cheat', 'fair', 'fair', 'fair', 'fair', 'fair', 'cheat', 'fair', 'cheat', 'fair', 'cheat', 'fair', 'cheat', 'fair', 'cheat', 'fair', 'cheat', 'fair', 'cheat', 'fair', 'cheat', 'fair', 'cheat', 'fair', 'cheat', 'fair', 'cheat', 'cheat', 'fair', 'cheat', 'fair', 'cheat', 'cheat', 'fair', 'cheat', 'fair', 'cheat', 'fair', 'cheat', 'fair', 'cheat', 'cheat', 'cheat', 'fair', 'cheat', 'fair', 'cheat', 'fair', 'cheat', 'fair', 'cheat', 'fair', 'cheat', 'cheat', 'fair', 'cheat', 'fair', 'cheat', 'fair', 'cheat', 'cheat', 'cheat', 'fair', 'cheat', 'fair', 'cheat', 'fair', 'cheat', 'fair', 'fair', 'cheat', 'fair', 'cheat', 'fair', 'fair', 'cheat', 'fair', 'cheat', 'fair', 'cheat', 'fair', 'cheat', 'cheat', 'fair', 'cheat', 'fair', 'cheat', 'fair', 'fair', 'fair', 'cheat', 'fair', 'cheat', 'fair', 'fair', 'cheat', 'fair', 'cheat', 'fair', 'cheat', 'fair', 'fair', 'fair', 'cheat', 'fair', 'cheat', 'fair', 'fair', 'fair', 'fair', 'fair', 'fair', 'cheat', 'fair', 'fair', 'cheat', 'fair', 'cheat', 'fair', 'cheat', 'fair', 'cheat', 'cheat', 'cheat', 'fair', 'cheat', 'fair', 'cheat', 'fair', 'cheat', 'fair', 'cheat', 'fair', 'cheat', 'cheat', 'cheat', 'fair', 'cheat', 'fair', 'fair', 'fair', 'cheat', 'fair', 'cheat', 'cheat', 'fair', 'cheat', 'fair', 'cheat', 'fair', 'cheat', 'fair', 'cheat', 'fair', 'cheat', 'cheat', 'fair', 'cheat', 'fair', 'fair', 'fair', 'cheat', 'fair', 'cheat', 'fair', 'cheat', 'fair', 'fair', 'cheat', 'fair', 'cheat', 'fair', 'cheat', 'fair', 'cheat', 'fair', 'cheat', 'fair', 'cheat', 'fair', 'fair', 'cheat', 'fair', 'cheat', 'fair', 'cheat', 'fair', 'cheat', 'cheat', 'fair', 'cheat', 'fair', 'cheat', 'fair', 'cheat', 'fair', 'cheat', 'fair', 'cheat', 'fair', 'fair', 'fair', 'fair', 'fair', 'fair', 'cheat', 'fair', 'cheat', 'fair', 'cheat', 'fair', 'cheat', 'fair', 'cheat', 'cheat', 'fair', 'cheat', 'fair', 'cheat', 'cheat', 'cheat', 'fair', 'cheat', 'fair', 'cheat', 'cheat', 'fair', 'cheat', 'fair', 'cheat', 'fair', 'fair', 'fair', 'fair', 'fair', 'cheat', 'fair', 'cheat', 'cheat', 'cheat', 'fair', 'cheat', 'fair', 'cheat', 'fair', 'cheat', 'fair', 'cheat', 'fair', 'fair', 'cheat', 'fair', 'fair', 'fair', 'cheat', 'fair', 'cheat', 'fair', 'cheat', 'fair', 'cheat', 'fair', 'cheat', 'fair', 'cheat', 'cheat', 'fair', 'cheat', 'fair', 'cheat', 'fair', 'fair', 'fair', 'fair', 'cheat', 'fair', 'cheat', 'fair', 'cheat', 'cheat', 'fair', 'cheat', 'cheat', 'cheat', 'fair', 'cheat', 'cheat', 'cheat', 'fair', 'cheat', 'fair', 'cheat', 'fair', 'cheat', 'cheat', 'cheat', 'fair', 'cheat', 'fair', 'cheat', 'fair', 'cheat', 'cheat', 'cheat', 'fair', 'cheat', 'fair', 'fair', 'fair', 'fair', 'fair', 'cheat', 'fair', 'cheat', 'fair', 'cheat', 'fair', 'cheat', 'fair', 'cheat', 'fair', 'cheat', 'fair', 'cheat', 'fair', 'cheat', 'fair', 'fair', 'cheat', 'fair', 'cheat', 'fair', 'cheat', 'fair', 'cheat', 'fair', 'cheat', 'fair', 'cheat', 'fair', 'cheat', 'fair', 'fair', 'fair', 'cheat', 'fair', 'cheat', 'cheat', 'cheat', 'fair', 'cheat', 'fair', 'fair', 'cheat', 'fair', 'fair', 'fair', 'fair', 'fair', 'cheat', 'fair', 'cheat', 'fair', 'cheat', 'fair', 'cheat', 'fair', 'cheat', 'fair', 'cheat', 'fair', 'cheat', 'fair', 'cheat', 'fair', 'cheat', 'fair', 'fair', 'cheat', 'fair', 'cheat', 'fair', 'fair', 'fair', 'cheat', 'fair', 'fair', 'cheat', 'fair', 'cheat', 'fair', 'fair', 'cheat', 'fair', 'fair', 'fair', 'fair', 'cheat', 'fair', 'fair', 'fair', 'fair', 'cheat', 'fair', 'fair', 'cheat', 'fair', 'cheat', 'fair', 'cheat', 'fair', 'cheat', 'cheat', 'fair', 'cheat', 'cheat', 'fair', 'cheat', 'fair', 'cheat', 'cheat', 'cheat', 'fair', 'cheat', 'fair', 'cheat', 'fair', 'cheat', 'fair', 'fair', 'cheat', 'fair', 'cheat', 'fair', 'cheat', 'fair', 'cheat', 'fair', 'cheat', 'fair', 'cheat', 'fair', 'cheat', 'fair', 'cheat', 'fair', 'cheat', 'fair', 'cheat', 'fair', 'cheat', 'fair', 'cheat', 'fair', 'cheat', 'cheat', 'fair', 'cheat', 'fair', 'cheat', 'fair', 'cheat', 'fair', 'fair', 'cheat', 'fair', 'fair', 'fair', 'cheat', 'fair', 'cheat', 'fair', 'cheat', 'fair', 'cheat', 'fair', 'cheat', 'cheat', 'cheat', 'fair', 'cheat', 'fair', 'cheat', 'fair', 'fair', 'fair', 'fair', 'fair', 'cheat', 'fair', 'cheat', 'fair', 'cheat', 'fair', 'cheat', 'fair', 'cheat', 'fair', 'cheat', 'fair', 'cheat', 'fair', 'cheat', 'fair', 'cheat', 'fair', 'fair', 'cheat', 'fair', 'fair', 'fair', 'fair', 'cheat', 'fair', 'cheat', 'fair', 'cheat', 'fair', 'cheat', 'cheat', 'fair', 'cheat', 'fair', 'cheat', 'cheat', 'fair', 'cheat', 'fair', 'cheat', 'cheat', 'cheat', 'fair', 'cheat', 'fair', 'cheat', 'fair', 'cheat', 'fair', 'cheat', 'fair', 'cheat', 'fair', 'fair', 'fair', 'cheat', 'fair', 'cheat', 'fair', 'cheat', 'fair', 'cheat', 'fair', 'cheat', 'fair', 'cheat', 'fair', 'cheat', 'fair', 'cheat', 'fair', 'cheat', 'fair', 'cheat', 'cheat', 'fair', 'cheat', 'fair', 'cheat', 'fair', 'cheat', 'fair', 'cheat', 'fair', 'cheat', 'fair', 'cheat', 'fair', 'fair', 'fair', 'cheat', 'fair', 'cheat', 'fair', 'cheat', 'cheat', 'cheat', 'cheat', 'fair', 'cheat', 'fair', 'cheat', 'cheat', 'cheat', 'cheat', 'fair', 'cheat', 'fair', 'fair', 'fair', 'cheat', 'fair', 'fair', 'fair', 'cheat', 'fair', 'cheat', 'fair', 'cheat', 'fair', 'cheat', 'fair', 'cheat', 'fair', 'cheat', 'cheat', 'fair', 'cheat', 'fair', 'fair', 'fair', 'fair', 'fair', 'fair', 'fair', 'fair', 'cheat', 'fair', 'cheat', 'fair', 'cheat', 'fair', 'cheat', 'cheat', 'cheat', 'cheat', 'fair', 'cheat', 'fair', 'cheat', 'fair', 'cheat', 'fair', 'cheat', 'fair', 'cheat', 'fair', 'cheat', 'fair', 'cheat', 'fair', 'cheat', 'fair', 'cheat', 'fair', 'fair', 'cheat', 'fair', 'cheat', 'fair', 'cheat', 'fair', 'cheat', 'fair', 'cheat', 'fair', 'cheat', 'fair', 'cheat', 'cheat', 'cheat', 'cheat', 'cheat', 'cheat', 'cheat', 'fair', 'cheat', 'cheat', 'fair', 'cheat', 'cheat', 'fair', 'cheat', 'fair', 'cheat', 'fair', 'cheat', 'fair', 'cheat', 'fair', 'cheat', 'fair', 'cheat', 'fair', 'cheat', 'cheat', 'fair', 'cheat', 'fair', 'cheat', 'fair', 'cheat', 'fair', 'cheat', 'cheat', 'cheat', 'fair', 'cheat', 'fair', 'cheat', 'fair', 'cheat', 'cheat', 'cheat', 'fair', 'cheat', 'fair', 'cheat', 'fair', 'cheat', 'fair', 'cheat', 'fair', 'cheat', 'cheat', 'cheat', 'cheat', 'fair', 'cheat', 'fair', 'cheat', 'fair', 'cheat', 'fair', 'fair', 'fair', 'fair', 'cheat', 'fair', 'fair', 'cheat', 'fair', 'fair', 'fair', 'fair', 'fair', 'fair', 'cheat', 'fair', 'fair', 'cheat', 'fair', 'cheat', 'fair', 'cheat', 'cheat', 'fair', 'cheat', 'fair', 'cheat', 'fair', 'cheat', 'cheat', 'fair', 'cheat', 'cheat', 'fair', 'cheat', 'fair', 'cheat', 'cheat', 'fair', 'cheat', 'fair', 'cheat', 'fair', 'cheat', 'fair', 'cheat', 'fair', 'cheat', 'fair', 'cheat', 'cheat', 'fair', 'cheat', 'fair', 'fair', 'cheat', 'fair', 'cheat', 'cheat', 'cheat', 'fair', 'cheat', 'cheat', 'cheat', 'fair', 'cheat', 'fair', 'fair', 'fair', 'fair', 'fair', 'fair', 'fair', 'fair', 'cheat', 'fair', 'cheat', 'fair', 'cheat', 'cheat', 'fair', 'cheat', 'cheat', 'fair', 'cheat', 'fair', 'cheat', 'fair', 'cheat', 'fair', 'cheat', 'cheat', 'fair', 'cheat', 'fair', 'cheat', 'fair', 'cheat', 'fair', 'cheat', 'fair', 'fair', 'fair', 'fair', 'cheat', 'fair', 'fair', 'fair', 'cheat', 'fair', 'cheat', 'fair', 'cheat', 'fair', 'cheat', 'cheat', 'fair', 'cheat', 'fair', 'cheat', 'fair', 'cheat', 'cheat', 'fair', 'cheat', 'fair', 'cheat', 'fair', 'fair', 'fair', 'fair', 'cheat', 'fair', 'cheat', 'fair', 'cheat', 'fair', 'cheat', 'fair', 'cheat', 'fair', 'cheat', 'cheat', 'fair', 'cheat', 'fair', 'cheat', 'fair', 'cheat', 'cheat', 'cheat', 'fair', 'cheat', 'fair', 'cheat', 'fair', 'cheat', 'fair', 'cheat', 'cheat', 'cheat', 'cheat', 'fair', 'cheat', 'fair', 'cheat', 'fair', 'cheat', 'fair', 'cheat', 'cheat', 'cheat', 'cheat', 'cheat']\n"
          ],
          "name": "stdout"
        }
      ]
    },
    {
      "cell_type": "code",
      "metadata": {
        "id": "JQcyFXv6vJeC",
        "colab_type": "code",
        "colab": {}
      },
      "source": [
        ""
      ],
      "execution_count": 0,
      "outputs": []
    }
  ]
}